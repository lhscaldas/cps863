{
 "cells": [
  {
   "cell_type": "code",
   "execution_count": 1,
   "metadata": {},
   "outputs": [],
   "source": [
    "import random\n",
    "\n",
    "# Gerar dados de uma moeda viciada ou justa, dependendo da probabilidade p\n",
    "def generate_biased_coin_data(N, p=0.3):\n",
    "    return [1 if random.random() < p else 0 for _ in range(N)]\n",
    "\n",
    "# Calcular a verossimilhança de um conjunto de dados para uma moeda com probabilidade p\n",
    "def likelihood(data, p):\n",
    "    heads = sum(data)\n",
    "    tails = len(data) - heads\n",
    "    return (p ** heads) * ((1 - p) ** tails)\n",
    "\n",
    "# Calcular a probabilidade a posteriori de uma moeda ser justa ou viciada\n",
    "def bayesian_inference(data, prior_fair=2/3, prior_biased=1/3):\n",
    "    likelihood_fair = likelihood(data, 0.5)\n",
    "    likelihood_biased = likelihood(data, 0.3)\n",
    "    \n",
    "    posterior_fair = likelihood_fair * prior_fair\n",
    "    posterior_biased = likelihood_biased * prior_biased\n",
    "    \n",
    "    normalization_constant = posterior_fair + posterior_biased\n",
    "    \n",
    "    posterior_fair /= normalization_constant\n",
    "    posterior_biased /= normalization_constant\n",
    "    \n",
    "    return posterior_fair, posterior_biased   \n"
   ]
  },
  {
   "cell_type": "markdown",
   "metadata": {},
   "source": [
    "#### N=10"
   ]
  },
  {
   "cell_type": "code",
   "execution_count": 2,
   "metadata": {},
   "outputs": [
    {
     "name": "stdout",
     "output_type": "stream",
     "text": [
      "[1, 0, 0, 0, 0, 0, 0, 0, 0, 0]\n",
      "Probabilidade posterior de moeda justa: 0.14\n",
      "Probabilidade posterior de moeda viciada: 0.86\n",
      "Os dados são mais provavelmente gerados por uma moeda viciada.\n",
      "[0, 1, 1, 0, 0, 0, 0, 1, 1, 0]\n",
      "Probabilidade posterior de moeda justa: 0.67\n",
      "Probabilidade posterior de moeda viciada: 0.33\n",
      "Os dados são mais provavelmente gerados por uma moeda justa.\n",
      "[0, 0, 1, 1, 1, 1, 1, 0, 0, 0]\n",
      "Probabilidade posterior de moeda justa: 0.83\n",
      "Probabilidade posterior de moeda viciada: 0.17\n",
      "Os dados são mais provavelmente gerados por uma moeda justa.\n",
      "[0, 0, 0, 0, 0, 0, 1, 0, 0, 1]\n",
      "Probabilidade posterior de moeda justa: 0.27\n",
      "Probabilidade posterior de moeda viciada: 0.73\n",
      "Os dados são mais provavelmente gerados por uma moeda viciada.\n",
      "[0, 1, 0, 0, 0, 0, 0, 1, 0, 0]\n",
      "Probabilidade posterior de moeda justa: 0.27\n",
      "Probabilidade posterior de moeda viciada: 0.73\n",
      "Os dados são mais provavelmente gerados por uma moeda viciada.\n"
     ]
    }
   ],
   "source": [
    "N = 10  # Número de lançamentos de moeda\n",
    "for _ in range(5):\n",
    "    data = generate_biased_coin_data(N, p=0.3)\n",
    "    print(data)\n",
    "    posterior_fair, posterior_biased = bayesian_inference(data)\n",
    "\n",
    "    print(f\"Probabilidade posterior de moeda justa: {posterior_fair:.2f}\")\n",
    "    print(f\"Probabilidade posterior de moeda viciada: {posterior_biased:.2f}\")\n",
    "\n",
    "    if posterior_fair > posterior_biased:\n",
    "        print(\"Os dados são mais provavelmente gerados por uma moeda justa.\")\n",
    "    else:\n",
    "        print(\"Os dados são mais provavelmente gerados por uma moeda viciada.\")"
   ]
  },
  {
   "cell_type": "code",
   "execution_count": 3,
   "metadata": {},
   "outputs": [
    {
     "name": "stdout",
     "output_type": "stream",
     "text": [
      "[1, 0, 0, 0, 1, 0, 0, 1, 1, 1]\n",
      "Probabilidade posterior de moeda justa: 0.83\n",
      "Probabilidade posterior de moeda viciada: 0.17\n",
      "Os dados são mais provavelmente gerados por uma moeda justa.\n",
      "[1, 0, 1, 0, 1, 0, 1, 1, 1, 0]\n",
      "Probabilidade posterior de moeda justa: 0.92\n",
      "Probabilidade posterior de moeda viciada: 0.08\n",
      "Os dados são mais provavelmente gerados por uma moeda justa.\n",
      "[1, 1, 0, 1, 0, 0, 0, 1, 1, 1]\n",
      "Probabilidade posterior de moeda justa: 0.92\n",
      "Probabilidade posterior de moeda viciada: 0.08\n",
      "Os dados são mais provavelmente gerados por uma moeda justa.\n",
      "[0, 1, 1, 1, 0, 0, 1, 1, 0, 1]\n",
      "Probabilidade posterior de moeda justa: 0.92\n",
      "Probabilidade posterior de moeda viciada: 0.08\n",
      "Os dados são mais provavelmente gerados por uma moeda justa.\n",
      "[0, 0, 0, 0, 0, 0, 1, 0, 0, 0]\n",
      "Probabilidade posterior de moeda justa: 0.14\n",
      "Probabilidade posterior de moeda viciada: 0.86\n",
      "Os dados são mais provavelmente gerados por uma moeda viciada.\n"
     ]
    }
   ],
   "source": [
    "N = 10  # Número de lançamentos de moeda\n",
    "for _ in range(5):\n",
    "    data = generate_biased_coin_data(N, p=0.5)\n",
    "    print(data)\n",
    "    posterior_fair, posterior_biased = bayesian_inference(data)\n",
    "\n",
    "    print(f\"Probabilidade posterior de moeda justa: {posterior_fair:.2f}\")\n",
    "    print(f\"Probabilidade posterior de moeda viciada: {posterior_biased:.2f}\")\n",
    "\n",
    "    if posterior_fair > posterior_biased:\n",
    "        print(\"Os dados são mais provavelmente gerados por uma moeda justa.\")\n",
    "    else:\n",
    "        print(\"Os dados são mais provavelmente gerados por uma moeda viciada.\")"
   ]
  },
  {
   "cell_type": "markdown",
   "metadata": {},
   "source": [
    "#### N = 50"
   ]
  },
  {
   "cell_type": "code",
   "execution_count": 4,
   "metadata": {},
   "outputs": [
    {
     "name": "stdout",
     "output_type": "stream",
     "text": [
      "[1, 0, 0, 0, 0, 0, 1, 1, 0, 1, 0, 0, 1, 0, 0, 0, 1, 0, 0, 1, 1, 0, 0, 0, 1, 1, 1, 1, 0, 0, 1, 1, 1, 0, 0, 0, 0, 1, 0, 1, 1, 1, 0, 0, 0, 0, 1, 0, 1, 1]\n",
      "Probabilidade posterior de moeda justa: 0.92\n",
      "Probabilidade posterior de moeda viciada: 0.08\n",
      "Os dados são mais provavelmente gerados por uma moeda justa.\n",
      "[1, 0, 0, 0, 0, 1, 0, 0, 1, 0, 0, 1, 0, 0, 0, 1, 1, 1, 0, 1, 1, 0, 1, 0, 0, 0, 0, 0, 1, 0, 1, 0, 0, 0, 0, 0, 0, 0, 1, 1, 1, 0, 1, 1, 0, 0, 1, 1, 1, 0]\n",
      "Probabilidade posterior de moeda justa: 0.69\n",
      "Probabilidade posterior de moeda viciada: 0.31\n",
      "Os dados são mais provavelmente gerados por uma moeda justa.\n",
      "[1, 0, 0, 0, 1, 0, 0, 0, 1, 0, 0, 1, 0, 0, 0, 0, 0, 1, 0, 0, 0, 0, 0, 0, 0, 0, 1, 0, 0, 0, 0, 0, 0, 0, 0, 1, 0, 0, 0, 1, 0, 0, 1, 0, 1, 0, 0, 0, 1, 0]\n",
      "Probabilidade posterior de moeda justa: 0.00\n",
      "Probabilidade posterior de moeda viciada: 1.00\n",
      "Os dados são mais provavelmente gerados por uma moeda viciada.\n",
      "[0, 1, 1, 0, 0, 0, 1, 0, 1, 0, 1, 0, 0, 1, 1, 0, 0, 0, 0, 1, 1, 0, 0, 0, 0, 0, 1, 0, 0, 0, 0, 1, 0, 1, 0, 0, 1, 0, 0, 0, 0, 0, 1, 0, 1, 0, 0, 0, 1, 0]\n",
      "Probabilidade posterior de moeda justa: 0.07\n",
      "Probabilidade posterior de moeda viciada: 0.93\n",
      "Os dados são mais provavelmente gerados por uma moeda viciada.\n",
      "[1, 0, 0, 0, 0, 1, 0, 0, 0, 1, 0, 0, 0, 0, 0, 1, 0, 0, 1, 1, 1, 0, 0, 0, 0, 1, 0, 0, 0, 1, 0, 0, 0, 0, 0, 0, 0, 0, 0, 0, 1, 1, 0, 1, 1, 1, 0, 0, 0, 0]\n",
      "Probabilidade posterior de moeda justa: 0.01\n",
      "Probabilidade posterior de moeda viciada: 0.99\n",
      "Os dados são mais provavelmente gerados por uma moeda viciada.\n"
     ]
    }
   ],
   "source": [
    "N = 50  # Número de lançamentos de moeda\n",
    "for _ in range(5):\n",
    "    data = generate_biased_coin_data(N, p=0.3)\n",
    "    print(data)\n",
    "    posterior_fair, posterior_biased = bayesian_inference(data)\n",
    "\n",
    "    print(f\"Probabilidade posterior de moeda justa: {posterior_fair:.2f}\")\n",
    "    print(f\"Probabilidade posterior de moeda viciada: {posterior_biased:.2f}\")\n",
    "\n",
    "    if posterior_fair > posterior_biased:\n",
    "        print(\"Os dados são mais provavelmente gerados por uma moeda justa.\")\n",
    "    else:\n",
    "        print(\"Os dados são mais provavelmente gerados por uma moeda viciada.\")"
   ]
  },
  {
   "cell_type": "code",
   "execution_count": 5,
   "metadata": {},
   "outputs": [
    {
     "name": "stdout",
     "output_type": "stream",
     "text": [
      "[1, 1, 1, 1, 1, 1, 0, 0, 0, 1, 1, 1, 0, 0, 1, 1, 1, 0, 1, 0, 0, 0, 0, 0, 1, 1, 1, 1, 0, 0, 1, 0, 1, 0, 1, 1, 1, 1, 0, 1, 1, 1, 1, 1, 1, 1, 0, 1, 0, 0]\n",
      "Probabilidade posterior de moeda justa: 1.00\n",
      "Probabilidade posterior de moeda viciada: 0.00\n",
      "Os dados são mais provavelmente gerados por uma moeda justa.\n",
      "[0, 0, 1, 1, 1, 1, 1, 1, 0, 0, 0, 0, 1, 0, 1, 1, 0, 0, 0, 1, 1, 0, 1, 0, 0, 0, 0, 1, 0, 0, 0, 0, 0, 0, 0, 0, 1, 1, 1, 1, 1, 0, 1, 0, 1, 1, 0, 1, 0, 1]\n",
      "Probabilidade posterior de moeda justa: 0.97\n",
      "Probabilidade posterior de moeda viciada: 0.03\n",
      "Os dados são mais provavelmente gerados por uma moeda justa.\n",
      "[0, 1, 1, 1, 1, 0, 0, 1, 1, 0, 0, 1, 0, 0, 0, 0, 0, 1, 0, 0, 0, 0, 0, 1, 0, 1, 1, 1, 1, 0, 1, 1, 0, 0, 1, 0, 1, 1, 1, 0, 0, 1, 0, 1, 0, 1, 0, 1, 0, 0]\n",
      "Probabilidade posterior de moeda justa: 0.97\n",
      "Probabilidade posterior de moeda viciada: 0.03\n",
      "Os dados são mais provavelmente gerados por uma moeda justa.\n",
      "[1, 1, 0, 1, 0, 1, 1, 1, 0, 0, 1, 0, 0, 1, 1, 1, 0, 1, 1, 1, 0, 0, 1, 1, 1, 1, 0, 1, 1, 1, 1, 0, 0, 1, 0, 0, 1, 1, 0, 0, 1, 0, 1, 1, 1, 0, 1, 1, 1, 0]\n",
      "Probabilidade posterior de moeda justa: 1.00\n",
      "Probabilidade posterior de moeda viciada: 0.00\n",
      "Os dados são mais provavelmente gerados por uma moeda justa.\n",
      "[1, 0, 0, 1, 0, 1, 0, 0, 0, 1, 1, 1, 1, 1, 1, 1, 0, 1, 1, 1, 0, 0, 1, 1, 1, 0, 0, 0, 0, 0, 1, 1, 1, 1, 1, 1, 0, 1, 1, 0, 0, 0, 0, 0, 1, 0, 1, 1, 1, 1]\n",
      "Probabilidade posterior de moeda justa: 1.00\n",
      "Probabilidade posterior de moeda viciada: 0.00\n",
      "Os dados são mais provavelmente gerados por uma moeda justa.\n"
     ]
    }
   ],
   "source": [
    "N = 50  # Número de lançamentos de moeda\n",
    "for _ in range(5):\n",
    "    data = generate_biased_coin_data(N, p=0.5)\n",
    "    print(data)\n",
    "    posterior_fair, posterior_biased = bayesian_inference(data)\n",
    "\n",
    "    print(f\"Probabilidade posterior de moeda justa: {posterior_fair:.2f}\")\n",
    "    print(f\"Probabilidade posterior de moeda viciada: {posterior_biased:.2f}\")\n",
    "\n",
    "    if posterior_fair > posterior_biased:\n",
    "        print(\"Os dados são mais provavelmente gerados por uma moeda justa.\")\n",
    "    else:\n",
    "        print(\"Os dados são mais provavelmente gerados por uma moeda viciada.\")"
   ]
  },
  {
   "cell_type": "markdown",
   "metadata": {},
   "source": [
    "#### N = 100"
   ]
  },
  {
   "cell_type": "code",
   "execution_count": 6,
   "metadata": {},
   "outputs": [
    {
     "name": "stdout",
     "output_type": "stream",
     "text": [
      "[1, 1, 0, 1, 0, 1, 0, 0, 0, 0, 1, 1, 0, 0, 0, 0, 1, 1, 0, 0, 0, 0, 1, 0, 0, 0, 0, 1, 1, 1, 0, 0, 1, 0, 0, 1, 1, 0, 0, 0, 0, 1, 1, 1, 1, 1, 0, 1, 0, 0, 0, 0, 0, 0, 1, 0, 1, 0, 1, 0, 0, 0, 0, 0, 1, 0, 0, 1, 0, 0, 0, 0, 0, 0, 1, 0, 0, 1, 0, 1, 0, 0, 1, 0, 0, 1, 1, 0, 1, 0, 1, 0, 0, 0, 0, 1, 0, 0, 1, 1]\n",
      "Probabilidade posterior de moeda justa: 0.17\n",
      "Probabilidade posterior de moeda viciada: 0.83\n",
      "Os dados são mais provavelmente gerados por uma moeda viciada.\n",
      "[0, 0, 1, 0, 0, 1, 0, 0, 0, 0, 1, 1, 0, 0, 0, 0, 0, 1, 0, 0, 0, 0, 0, 0, 1, 0, 1, 0, 0, 1, 0, 0, 0, 0, 0, 1, 0, 0, 0, 0, 0, 1, 0, 0, 1, 0, 0, 1, 0, 1, 1, 1, 0, 0, 1, 0, 0, 0, 0, 0, 0, 0, 0, 0, 1, 1, 0, 0, 1, 0, 0, 1, 0, 0, 1, 0, 1, 1, 0, 0, 0, 1, 0, 1, 0, 1, 0, 0, 0, 1, 1, 0, 0, 0, 1, 0, 0, 0, 0, 0]\n",
      "Probabilidade posterior de moeda justa: 0.00\n",
      "Probabilidade posterior de moeda viciada: 1.00\n",
      "Os dados são mais provavelmente gerados por uma moeda viciada.\n",
      "[1, 0, 0, 0, 1, 1, 0, 0, 0, 0, 1, 0, 1, 0, 0, 0, 0, 0, 1, 0, 0, 1, 1, 0, 0, 0, 0, 0, 0, 0, 1, 0, 1, 0, 0, 0, 0, 1, 0, 0, 0, 0, 0, 0, 1, 0, 0, 0, 0, 0, 0, 0, 1, 0, 0, 0, 0, 0, 0, 0, 0, 0, 0, 0, 1, 0, 1, 0, 0, 0, 0, 1, 0, 0, 0, 0, 0, 0, 0, 0, 0, 0, 1, 0, 0, 0, 0, 0, 0, 0, 0, 0, 1, 1, 0, 0, 0, 0, 0, 0]\n",
      "Probabilidade posterior de moeda justa: 0.00\n",
      "Probabilidade posterior de moeda viciada: 1.00\n",
      "Os dados são mais provavelmente gerados por uma moeda viciada.\n",
      "[0, 0, 0, 1, 1, 1, 0, 0, 0, 0, 1, 0, 0, 1, 0, 0, 0, 1, 0, 1, 1, 0, 0, 0, 0, 0, 1, 0, 1, 1, 0, 0, 0, 0, 0, 0, 1, 0, 0, 0, 0, 0, 1, 0, 0, 0, 1, 1, 1, 0, 1, 0, 1, 0, 0, 1, 0, 0, 0, 0, 0, 0, 0, 0, 1, 1, 0, 1, 0, 0, 0, 0, 1, 0, 0, 1, 0, 0, 1, 0, 0, 1, 1, 0, 0, 0, 0, 0, 0, 1, 0, 0, 0, 0, 1, 1, 0, 0, 0, 1]\n",
      "Probabilidade posterior de moeda justa: 0.00\n",
      "Probabilidade posterior de moeda viciada: 1.00\n",
      "Os dados são mais provavelmente gerados por uma moeda viciada.\n",
      "[0, 0, 0, 0, 1, 0, 0, 0, 0, 0, 0, 0, 0, 0, 0, 1, 1, 0, 0, 0, 0, 1, 0, 0, 0, 0, 1, 0, 0, 0, 0, 0, 1, 0, 0, 0, 0, 0, 0, 0, 0, 0, 0, 0, 0, 0, 1, 0, 1, 0, 0, 0, 0, 0, 0, 0, 0, 1, 0, 0, 1, 0, 1, 1, 0, 0, 1, 0, 0, 0, 0, 1, 1, 0, 0, 0, 0, 0, 1, 0, 0, 0, 0, 1, 1, 0, 0, 0, 0, 0, 1, 0, 0, 0, 0, 1, 1, 0, 0, 0]\n",
      "Probabilidade posterior de moeda justa: 0.00\n",
      "Probabilidade posterior de moeda viciada: 1.00\n",
      "Os dados são mais provavelmente gerados por uma moeda viciada.\n"
     ]
    }
   ],
   "source": [
    "N = 100  # Número de lançamentos de moeda\n",
    "for _ in range(5):\n",
    "    data = generate_biased_coin_data(N, p=0.3)\n",
    "    print(data)\n",
    "    posterior_fair, posterior_biased = bayesian_inference(data)\n",
    "\n",
    "    print(f\"Probabilidade posterior de moeda justa: {posterior_fair:.2f}\")\n",
    "    print(f\"Probabilidade posterior de moeda viciada: {posterior_biased:.2f}\")\n",
    "\n",
    "    if posterior_fair > posterior_biased:\n",
    "        print(\"Os dados são mais provavelmente gerados por uma moeda justa.\")\n",
    "    else:\n",
    "        print(\"Os dados são mais provavelmente gerados por uma moeda viciada.\")"
   ]
  },
  {
   "cell_type": "code",
   "execution_count": 7,
   "metadata": {},
   "outputs": [
    {
     "name": "stdout",
     "output_type": "stream",
     "text": [
      "[0, 1, 1, 0, 0, 1, 1, 0, 1, 0, 0, 0, 0, 1, 0, 0, 1, 0, 0, 0, 1, 0, 1, 0, 1, 1, 1, 0, 1, 1, 0, 1, 0, 1, 1, 0, 1, 1, 1, 0, 1, 1, 0, 1, 0, 0, 1, 0, 1, 0, 0, 1, 1, 0, 0, 0, 0, 1, 0, 1, 1, 0, 1, 0, 1, 0, 1, 0, 1, 1, 1, 1, 1, 0, 0, 1, 0, 1, 1, 1, 1, 1, 1, 0, 1, 1, 1, 1, 0, 0, 1, 0, 0, 1, 1, 1, 1, 1, 1, 1]\n",
      "Probabilidade posterior de moeda justa: 1.00\n",
      "Probabilidade posterior de moeda viciada: 0.00\n",
      "Os dados são mais provavelmente gerados por uma moeda justa.\n",
      "[0, 1, 1, 0, 0, 0, 0, 0, 0, 1, 0, 0, 0, 1, 1, 0, 0, 0, 1, 0, 0, 0, 1, 1, 0, 1, 0, 0, 1, 1, 0, 0, 1, 0, 1, 1, 0, 0, 0, 0, 0, 0, 0, 1, 0, 0, 1, 0, 1, 0, 1, 1, 0, 0, 1, 0, 1, 1, 0, 1, 0, 1, 1, 0, 0, 1, 1, 0, 1, 1, 0, 1, 0, 1, 0, 1, 1, 1, 1, 0, 1, 1, 0, 1, 0, 0, 1, 1, 1, 1, 1, 1, 1, 0, 1, 0, 0, 0, 1, 0]\n",
      "Probabilidade posterior de moeda justa: 1.00\n",
      "Probabilidade posterior de moeda viciada: 0.00\n",
      "Os dados são mais provavelmente gerados por uma moeda justa.\n",
      "[1, 1, 0, 1, 1, 0, 0, 1, 1, 0, 1, 1, 0, 0, 0, 0, 0, 1, 0, 0, 0, 1, 0, 0, 1, 1, 0, 1, 0, 0, 0, 1, 0, 1, 0, 0, 1, 0, 0, 1, 0, 0, 1, 0, 1, 0, 1, 1, 0, 0, 1, 1, 1, 1, 0, 0, 1, 0, 1, 1, 0, 1, 0, 1, 1, 1, 0, 1, 1, 0, 0, 0, 0, 0, 0, 1, 0, 0, 0, 1, 1, 0, 1, 0, 1, 1, 1, 0, 0, 1, 1, 0, 0, 0, 0, 0, 0, 1, 1, 1]\n",
      "Probabilidade posterior de moeda justa: 1.00\n",
      "Probabilidade posterior de moeda viciada: 0.00\n",
      "Os dados são mais provavelmente gerados por uma moeda justa.\n",
      "[0, 0, 0, 0, 1, 0, 1, 0, 1, 0, 1, 0, 1, 1, 0, 1, 0, 1, 1, 0, 1, 1, 0, 0, 1, 1, 0, 0, 1, 1, 1, 0, 0, 1, 1, 0, 1, 0, 1, 1, 0, 1, 1, 1, 0, 0, 1, 1, 0, 1, 0, 1, 0, 0, 1, 1, 0, 1, 1, 1, 0, 0, 0, 0, 1, 1, 1, 0, 0, 1, 0, 1, 1, 0, 1, 1, 0, 0, 1, 0, 0, 1, 0, 0, 0, 0, 1, 1, 0, 0, 1, 0, 0, 0, 1, 0, 1, 0, 1, 0]\n",
      "Probabilidade posterior de moeda justa: 1.00\n",
      "Probabilidade posterior de moeda viciada: 0.00\n",
      "Os dados são mais provavelmente gerados por uma moeda justa.\n",
      "[1, 0, 0, 0, 1, 0, 1, 0, 0, 0, 1, 1, 0, 1, 1, 0, 1, 0, 1, 1, 1, 0, 0, 1, 0, 0, 1, 0, 1, 1, 1, 0, 1, 1, 0, 1, 0, 1, 1, 1, 1, 1, 1, 1, 1, 0, 0, 0, 1, 0, 1, 1, 0, 1, 0, 0, 1, 1, 0, 1, 0, 1, 1, 0, 0, 0, 0, 0, 0, 0, 0, 1, 1, 0, 1, 1, 0, 0, 1, 0, 1, 1, 1, 1, 1, 0, 0, 1, 0, 1, 0, 0, 0, 0, 1, 0, 1, 1, 1, 1]\n",
      "Probabilidade posterior de moeda justa: 1.00\n",
      "Probabilidade posterior de moeda viciada: 0.00\n",
      "Os dados são mais provavelmente gerados por uma moeda justa.\n"
     ]
    }
   ],
   "source": [
    "N = 100  # Número de lançamentos de moeda\n",
    "for _ in range(5):\n",
    "    data = generate_biased_coin_data(N, p=0.5)\n",
    "    print(data)\n",
    "    posterior_fair, posterior_biased = bayesian_inference(data)\n",
    "\n",
    "    print(f\"Probabilidade posterior de moeda justa: {posterior_fair:.2f}\")\n",
    "    print(f\"Probabilidade posterior de moeda viciada: {posterior_biased:.2f}\")\n",
    "\n",
    "    if posterior_fair > posterior_biased:\n",
    "        print(\"Os dados são mais provavelmente gerados por uma moeda justa.\")\n",
    "    else:\n",
    "        print(\"Os dados são mais provavelmente gerados por uma moeda viciada.\")"
   ]
  }
 ],
 "metadata": {
  "kernelspec": {
   "display_name": ".venv",
   "language": "python",
   "name": "python3"
  },
  "language_info": {
   "codemirror_mode": {
    "name": "ipython",
    "version": 3
   },
   "file_extension": ".py",
   "mimetype": "text/x-python",
   "name": "python",
   "nbconvert_exporter": "python",
   "pygments_lexer": "ipython3",
   "version": "3.11.7"
  }
 },
 "nbformat": 4,
 "nbformat_minor": 2
}
